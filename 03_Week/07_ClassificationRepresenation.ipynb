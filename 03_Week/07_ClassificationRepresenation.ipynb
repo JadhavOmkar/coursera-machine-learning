{
 "cells": [
  {
   "cell_type": "markdown",
   "metadata": {},
   "source": [
    "# Classification and Representation"
   ]
  },
  {
   "cell_type": "markdown",
   "metadata": {},
   "source": [
    "## Classification\n",
    "<img src=\"../images/Logistic-1.png\" alt=\"Drawing\" style=\"width: 250px;\"/>\n",
    "<img src=\"../images/Logistic-2.png\" alt=\"Drawing\" style=\"width: 250px;\"/>"
   ]
  },
  {
   "cell_type": "markdown",
   "metadata": {},
   "source": [
    "## Hypothesis Represenatation\n",
    "- Need a value between 0 and 1\n",
    "- Sigmoid/Logistic Regression\n",
    "- It crosses 0.5 on the y-intercept\n",
    "- $hθ_{x}$ will give us the probability that our output is 1. For example, $hθ_{x}$ =0.7 gives us a probability of 70% that our output is 1. Our probability that our prediction is 0 is just the complement of our probability that it is 1 (e.g. if probability that it is 1 is 70%, then the probability that it is 0 is 30%).\n",
    "- We use the probability of 0.5 as the treshold (anything higher or equal to 0.5 is 1, anything lower than 0.5 is 0)\n",
    "- But when does the probability equal 0.5?\n",
    "- If we look at the graph, we notice that the probability of 0.5 occurs towards the right of the y-axis (x=0)\n",
    "- Use the slide for a better visual but if g($θ^{T}$ * x) is greater than 0, then the probability will be 1\n",
    "- Likewise, if the g($θ^{T}$ * x) is less than 0, then the probability will be 0\n",
    "- Can't use the same cost function that was use to find the linear function (because the function isn't linear anymore)"
   ]
  }
 ],
 "metadata": {
  "kernelspec": {
   "display_name": "Python 3",
   "language": "python",
   "name": "python3"
  },
  "language_info": {
   "codemirror_mode": {
    "name": "ipython",
    "version": 3
   },
   "file_extension": ".py",
   "mimetype": "text/x-python",
   "name": "python",
   "nbconvert_exporter": "python",
   "pygments_lexer": "ipython3",
   "version": "3.6.5"
  }
 },
 "nbformat": 4,
 "nbformat_minor": 2
}
