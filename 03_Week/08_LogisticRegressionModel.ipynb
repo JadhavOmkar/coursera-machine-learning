{
 "cells": [
  {
   "cell_type": "markdown",
   "metadata": {},
   "source": [
    "# Logistic Regression Model"
   ]
  },
  {
   "cell_type": "markdown",
   "metadata": {},
   "source": [
    "## Cost Function\n",
    "\n",
    "- Check journal for more information on this\n",
    "- When y=1\n",
    "    - We use the -log function because the cost is 0 (desired)  if y=1 and $hθ_{x}$=1 \n",
    "    - But when the function approaches 0, well the number could go until infinity\n",
    "    - There's a LARGE cost if $hθ_{x}$=0 (or as it approaches 0)\n",
    "    - The intuition says that the probability that y is equal to 1 is VERY small\n",
    "    - But if we are wrong, we'll penalize the learning algorithm by a large cost\n",
    "- When y=0\n",
    "    - Same intuition but the reverse\n",
    "    - Thus, if we see that the cost is 0 if y=0 and $hθ_{x}$=0"
   ]
  },
  {
   "cell_type": "markdown",
   "metadata": {},
   "source": [
    "## Simplified Cost Function and Gradient Descent\n",
    "- The gradient descent formular is the same as the linear regression\n",
    "- The thing that changes is how we compute the hypothesis. \n",
    "- For linear regression, we multiply theta^Transpose * X\n",
    "- For logistic regression, we divide 1 / 1 + e($-θ^{T}$* X)) "
   ]
  }
 ],
 "metadata": {
  "kernelspec": {
   "display_name": "Python 3",
   "language": "python",
   "name": "python3"
  },
  "language_info": {
   "codemirror_mode": {
    "name": "ipython",
    "version": 3
   },
   "file_extension": ".py",
   "mimetype": "text/x-python",
   "name": "python",
   "nbconvert_exporter": "python",
   "pygments_lexer": "ipython3",
   "version": "3.6.5"
  }
 },
 "nbformat": 4,
 "nbformat_minor": 2
}
