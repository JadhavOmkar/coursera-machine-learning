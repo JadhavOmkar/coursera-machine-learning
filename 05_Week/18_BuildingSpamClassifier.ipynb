{
 "cells": [
  {
   "cell_type": "markdown",
   "metadata": {},
   "source": [
    "# Building a Spam Classifier\n"
   ]
  },
  {
   "cell_type": "markdown",
   "metadata": {},
   "source": [
    "## Prioritizing What to Work On\n",
    "- So how could you spend your time to improve the accuracy of this classifier?\n",
    "    - Collect lots of data (for example \"honeypot\" project but doesn't always work)\n",
    "    - Develop sophisticated features (for example: using email header data in spam emails)\n",
    "    - Develop algorithms to process your input in different ways (recognizing misspellings in spam).\n",
    "    - It is difficult to tell which of the options will be most helpful.\n",
    "    \n",
    "- Selecting the model or approach can be difficult bc there's no clearn approach on how to implement it. \n",
    "    - Thus, Andrew suggest making a simple model and then plotting a learning curve to see if you need more or less data\n",
    "    - Error analysis: Look at all the mistakes or error that the model did. Then, check the information and categorizes on a common ground of these errors. \n",
    "        - Stemming software: In the SPAM/NONSPAM example, it will find words that are the same and treat them the same. \n",
    "- It is very important to get error results as a single, numerical value. Otherwise it is difficult to assess your algorithm's performance. For example if we use stemming, which is the process of treating the same word with different forms (fail/failing/failed) as one word (fail), and get a 3% error rate instead of 5%, then we should definitely add it to our model. However, if we try to distinguish between upper case and lower case letters and end up getting a 3.2% error rate instead of 3%, then we should avoid using this new feature. Hence, we should try new things, get a numerical value for our error rate, and based on our result decide whether we want to keep the new feature or not.\n"
   ]
  },
  {
   "cell_type": "markdown",
   "metadata": {},
   "source": [
    "## Error Analysis\n",
    "- The recommended approach to solving machine learning problems is to:\n",
    "- Start with a simple algorithm, implement it quickly, and test it early on your cross validation data.\n",
    "- Plot learning curves to decide if more data, more features, etc. are likely to help.\n",
    "- Manually examine the errors on examples in the cross validation set and try to spot a trend where most of the errors were made."
   ]
  }
 ],
 "metadata": {
  "kernelspec": {
   "display_name": "Python 3",
   "language": "python",
   "name": "python3"
  },
  "language_info": {
   "codemirror_mode": {
    "name": "ipython",
    "version": 3
   },
   "file_extension": ".py",
   "mimetype": "text/x-python",
   "name": "python",
   "nbconvert_exporter": "python",
   "pygments_lexer": "ipython3",
   "version": "3.6.5"
  }
 },
 "nbformat": 4,
 "nbformat_minor": 2
}
