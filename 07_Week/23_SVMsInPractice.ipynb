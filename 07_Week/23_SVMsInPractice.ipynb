{
 "cells": [
  {
   "cell_type": "markdown",
   "metadata": {},
   "source": [
    "# SVMs in Practice"
   ]
  },
  {
   "cell_type": "markdown",
   "metadata": {},
   "source": [
    "## Using an SVM\n",
    "- Choice of parameters C\n",
    "- Choice of Kernel\n",
    "    - Can be no kernel (or its called \"linear kernel\")\n",
    "    - Gaussian Kernel:\n",
    "        - If you choose this, then you have to decide $Sigma^{2}$\n",
    "        - Also, you do have to worry about normalization\n",
    "- When you do decide to use the kernel, they need to satisfy the Mercer's Theorem\n",
    "- Other kernels: Polynomial kernels, String kernel, Chi-square kernel, histogram intersection kernel\n",
    "\n",
    "** Mutli-class classification **\n",
    "- Very similar to the logistic regression\n",
    "\n",
    "** Logistic Regression Vs. SVMs **\n",
    "- If n is relative large to m (features to observations) then Andrew recommends using Logistic Regression os SVM without a kernel\n",
    "- If n is small and m is intermediate size, you should use SVM with a Gaussian kernel\n",
    "- If i small and m is large, create add/more features, then use logistic regression or SVM without a kernel\n"
   ]
  }
 ],
 "metadata": {
  "kernelspec": {
   "display_name": "Python 3",
   "language": "python",
   "name": "python3"
  },
  "language_info": {
   "codemirror_mode": {
    "name": "ipython",
    "version": 3
   },
   "file_extension": ".py",
   "mimetype": "text/x-python",
   "name": "python",
   "nbconvert_exporter": "python",
   "pygments_lexer": "ipython3",
   "version": "3.6.5"
  }
 },
 "nbformat": 4,
 "nbformat_minor": 2
}
