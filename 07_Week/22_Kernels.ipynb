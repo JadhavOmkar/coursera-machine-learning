{
 "cells": [
  {
   "cell_type": "markdown",
   "metadata": {},
   "source": [
    "# Kernels"
   ]
  },
  {
   "cell_type": "markdown",
   "metadata": {},
   "source": [
    "## Kernels I\n",
    "- Gaussian Kernel\n",
    "- We are finding or redefining the new formulas instead of x. We are finding the similarities btw. x and some variable landmarks\n",
    "<img src=\"../images/Kernel.png\" alt=\"Drawing\" style=\"width: 700px;\">\n",
    "<img src=\"../images/Kernel-2.png\" alt=\"Drawing\" style=\"width: 700px;\">\n"
   ]
  },
  {
   "cell_type": "markdown",
   "metadata": {},
   "source": [
    "## Kernels II\n",
    "\n",
    "- If x is close to the landmark, then formula would be close to 0, but with the exp formula, the result is one\n",
    "- Check graph below\n",
    "\n",
    "- We manually pick the landmark points\n",
    "<img src=\"../images/Kernel-3.png\" alt=\"Drawing\" style=\"width: 700px;\">\n",
    " \n",
    "- The $Sigma^{2}$ influences the function. Check below for graph of diff. $Sigma^{2}$\n",
    "<img src=\"../images/Kernel-4.png\" alt=\"Drawing\" style=\"width: 700px;\">\n",
    " \n",
    "- We predict the values depedning on how similar they are too the landmarks.\n",
    "- I still don't know how the decide the landmarks. That should be solved!\n",
    "<img src=\"../images/Kernel-5.png\" alt=\"Drawing\" style=\"width: 700px;\">\n"
   ]
  },
  {
   "cell_type": "markdown",
   "metadata": {},
   "source": [
    "## SVM Parameters\n",
    "- Bc C = 1/lambda\n",
    "     - Large C ( or small lambda) means that we will have a lower bias but higher variance\n",
    "     - Small C ( or large lambda) means that we will have a higher bias but lower variance\n",
    "- $Sigma^{2}$\n",
    "    - A large $Sigma^{2}$ has a higher bias and low variance. Since, the graph run smoothly and most results will be similar.  \n",
    "    - A small $Sigma^{2}$ has a lower bias and higher variance. \n",
    "\n"
   ]
  }
 ],
 "metadata": {
  "kernelspec": {
   "display_name": "Python 3",
   "language": "python",
   "name": "python3"
  },
  "language_info": {
   "codemirror_mode": {
    "name": "ipython",
    "version": 3
   },
   "file_extension": ".py",
   "mimetype": "text/x-python",
   "name": "python",
   "nbconvert_exporter": "python",
   "pygments_lexer": "ipython3",
   "version": "3.6.5"
  }
 },
 "nbformat": 4,
 "nbformat_minor": 2
}
