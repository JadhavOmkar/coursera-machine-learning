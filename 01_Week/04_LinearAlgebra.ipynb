{
 "cells": [
  {
   "cell_type": "markdown",
   "metadata": {},
   "source": [
    "# Linear Algebra Review"
   ]
  },
  {
   "cell_type": "markdown",
   "metadata": {},
   "source": [
    "## Addition and Scalar Multiplication\n",
    "\n",
    "- Add by the specific place in the matrix to another matrix, the dimension will remain exactly the same\n",
    "- Mult. by a real number, multply each value in the matrix by the scalar value\n",
    "- Combination of Operation: The same order as regular algerbric math"
   ]
  },
  {
   "cell_type": "markdown",
   "metadata": {},
   "source": [
    "## Matrix Vector Multiplication\n",
    "Remember, it's going down in the row * going to the right in the other col and then add all the products\n",
    "- Can also use it for equation where the equation parameters are just a vector of numbers   "
   ]
  },
  {
   "cell_type": "markdown",
   "metadata": {},
   "source": [
    "## Matrix Matrix Multiplication\n",
    "- Can only multply the ones that match (first matrix's col and second matrix's row)\n",
    "- Like with the matrix vector mult, you can use system of equation but now you can use more than one equation "
   ]
  },
  {
   "cell_type": "markdown",
   "metadata": {},
   "source": [
    "## Matrix Properties\n",
    "\n",
    "- IS Not cumlative, A x B is NOT B x A\n",
    "- IS associative, if you A x B x C, can done as (A x B) x C or A x (B x C)\n",
    "- 1 is the *Identity Matrix* , there are 1 in the diagnols. For any matrix A, A x I is I x A\n",
    "- Inverse: A x A^-1 (inverse) = I\n",
    "- Matrixes that don't have an inverse are called *singular or degenerate*\n",
    "- Matrix Transpose: The first row of a matrix is the first column of the transpose matrix"
   ]
  },
  {
   "cell_type": "markdown",
   "metadata": {},
   "source": [
    "## Notation and terms\n",
    "- Aij refers to the element in the ith row and jth column of matrix A.\n",
    "- A vector with 'n' rows is referred to as an 'n'-dimensional vector\n",
    "- vi refers to the element in the ith row of the vector.\n",
    "- In general, all our vectors and matrices will be 1-indexed. Note that for some programming languages, the arrays are 0-indexed.\n",
    "- Matrices are usually denoted by uppercase names while vectors are lowercase.\n",
    "- \"Scalar\" means that an object is a single value, not a vector or matrix.\n",
    "- ℝ refers to the set of scalar real numbers\n",
    "- ℝ𝕟 refers to the set of n-dimensional vectors of real numbers\n"
   ]
  },
  {
   "cell_type": "markdown",
   "metadata": {},
   "source": [
    "**Matrix Notation**\n",
    "\n",
    "\n",
    "** Vector**: Only has one columns with n rows\n",
    "- 1 indexed vs 0 indexed (The number of the index the rows begin with)\n",
    "   \n",
    "<img src=\"./images/image1.png\" alt=\"Drawing\" style=\"width: 800px;\" >\n",
    "\n",
    "The Gradient Descent rule can be expressed as:\n",
    "\n",
    "θ:=θ−α∇J(θ)\n",
    "Where ∇J(θ) is a column vector of the form:\n",
    "<img src=\"./images/image2.png\" alt=\"Drawing\" style=\"width: 800px;\">"
   ]
  }
 ],
 "metadata": {
  "kernelspec": {
   "display_name": "Python 3",
   "language": "python",
   "name": "python3"
  },
  "language_info": {
   "codemirror_mode": {
    "name": "ipython",
    "version": 3
   },
   "file_extension": ".py",
   "mimetype": "text/x-python",
   "name": "python",
   "nbconvert_exporter": "python",
   "pygments_lexer": "ipython3",
   "version": "3.6.5"
  }
 },
 "nbformat": 4,
 "nbformat_minor": 2
}
