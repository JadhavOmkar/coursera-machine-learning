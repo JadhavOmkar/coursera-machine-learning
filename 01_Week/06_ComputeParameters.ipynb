{
 "cells": [
  {
   "cell_type": "markdown",
   "metadata": {},
   "source": [
    "# Computing Parameters Algebraically"
   ]
  },
  {
   "cell_type": "markdown",
   "metadata": {},
   "source": [
    "## Normal Equation\n",
    "- Equation: X * X(Transpose)^-1 * X(Transpose) * y\n",
    "- Feature Scaling is NOT needed here, only if you're still performing gradient descent\n",
    "- Gradient Descent vs Normal Equation? 10,000 seems to okay for normal matrix (10000 x 10000 matrix)\n",
    "- **Gradient Descent**: Need to choose alpha, Needs many iterations, Works well when n is large\n",
    "- **Normal Equation**: No need to choose alpha, No need to iterate, Slow if n is very large\n",
    "- Let’s discuss a second way of doing so, this time performing the minimization explicitly and without resorting to an iterative algorithm. In the \"Normal Equation\" method, we will minimize J by explicitly taking its derivatives with respect to the θj ’s, and setting them to zero. This allows us to find the optimum theta without iteration.\n",
    "    - θ = (X^T * X)^−1 * X^T * y"
   ]
  },
  {
   "cell_type": "markdown",
   "metadata": {},
   "source": [
    "## Normal Equation Noninvertibility\n",
    "- When implementing the normal equation in octave we want to use the 'pinv' function rather than 'inv.' The 'pinv' function will give you a value of θ even if XTX is not invertible.\n",
    "- If XTX is noninvertible, the common causes might be having :\n",
    "    - Redundant features, where two features are very closely related (i.e. they are linearly dependent) \n",
    "    - Too many features (e.g. m ≤ n). In this case, delete some features or use \"regularization\" (to be explained in a later lesson). \n",
    "- Solutions to the above problems include deleting a feature that is linearly dependent with another or deleting one or more features when there are too many features."
   ]
  }
 ],
 "metadata": {
  "kernelspec": {
   "display_name": "Python 3",
   "language": "python",
   "name": "python3"
  },
  "language_info": {
   "codemirror_mode": {
    "name": "ipython",
    "version": 3
   },
   "file_extension": ".py",
   "mimetype": "text/x-python",
   "name": "python",
   "nbconvert_exporter": "python",
   "pygments_lexer": "ipython3",
   "version": "3.6.5"
  }
 },
 "nbformat": 4,
 "nbformat_minor": 2
}
