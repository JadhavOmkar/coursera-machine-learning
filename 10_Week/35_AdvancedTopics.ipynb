{
 "cells": [
  {
   "cell_type": "markdown",
   "metadata": {},
   "source": [
    "# Advanced Topics"
   ]
  },
  {
   "cell_type": "markdown",
   "metadata": {},
   "source": [
    "## Online learning\n",
    "<img src=\"../images/AdvancedTopics-1.png\" alt=\"Drawing\" style=\"width: 400px;\"/>\n",
    "\n",
    "This focuses on the predicted CTR (Click-Through Rate)\n",
    "- <img src=\"../images/AdvancedTopics-2.png\" alt=\"Drawing\" style=\"width: 400px;\"/>"
   ]
  },
  {
   "cell_type": "markdown",
   "metadata": {},
   "source": [
    "## Map Reduce and Data Parallelism\n",
    "- You're pretty much dividing the data into n parts, where n is the number of computers or system that will will be running in parallel to compute their n part.\n",
    "- You'll then combine the results into a master server\n",
    "    - <img src=\"../images/AdvancedTopics-3.png\" alt=\"Drawing\" style=\"width: 400px;\"/>\n",
    "- If you plan on doing this, you must ask yourself if the results can be expressed as the summation of differenct results\n",
    "<img src=\"../images/AdvancedTopics-4.png\" alt=\"Drawing\" style=\"width: 400px;\"/>\n",
    "- You don't necessarily need 4 computers, but you can do is all in one computer using the four different cores so they can perform at the same time"
   ]
  }
 ],
 "metadata": {
  "kernelspec": {
   "display_name": "Python 3",
   "language": "python",
   "name": "python3"
  },
  "language_info": {
   "codemirror_mode": {
    "name": "ipython",
    "version": 3
   },
   "file_extension": ".py",
   "mimetype": "text/x-python",
   "name": "python",
   "nbconvert_exporter": "python",
   "pygments_lexer": "ipython3",
   "version": "3.6.6"
  }
 },
 "nbformat": 4,
 "nbformat_minor": 2
}
