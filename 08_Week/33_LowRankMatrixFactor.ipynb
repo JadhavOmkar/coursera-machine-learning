{
 "cells": [
  {
   "cell_type": "markdown",
   "metadata": {},
   "source": [
    "# Low Rank Matrix Factorization"
   ]
  },
  {
   "cell_type": "markdown",
   "metadata": {},
   "source": [
    "## Vectorization: Low Rank Matrix Factorization\n",
    "- When looking at these problems, like the picture below, the user is listed as the column, and the movie is listed as the row\n",
    "<img src=\"../images/MatrixFactorization-1.png\" alt=\"Drawing\" style=\"width: 600px;\"/>\n",
    "<img src=\"../images/MatrixFactorization-2.png\" alt=\"Drawing\" style=\"width: 600px;\"/>\n",
    "<img src=\"../images/MatrixFactorization-3.png\" alt=\"Drawing\" style=\"width: 600px;\"/>\n"
   ]
  },
  {
   "cell_type": "markdown",
   "metadata": {},
   "source": [
    "## Implementational Detail: Mean Normalization\n",
    "- We see that when there's no data for a movie, the model will predict 0 for all the movies bc the first term will be 0 since x is 0 (bc we don't know what the user preference in features), this also applies to the second portion of the model\n",
    "- The third portion encourages the rating of the movies (the value of theta), will be 0. \n",
    "<img src=\"../images/MatrixFactorization-4.png\" alt=\"Drawing\" style=\"width: 600px;\"/>\n",
    "\n",
    "**Mean Normalization**\n",
    "- We use the average of each column and make a vector (n by 1)\n",
    "- This will only apply to the data that have some infor. and are NOT unknown\n",
    "- We then either subract the average to each data into a new matrix\n",
    "<img src=\"../images/MatrixFactorization-5.png\" alt=\"Drawing\" style=\"width: 600px;\"/>\n",
    "- The bottom image shows that will still use theta^Theta * X, which will give us zero but now we add the mean term. SO, we are basically scoring the theta's with the average\n"
   ]
  }
 ],
 "metadata": {
  "kernelspec": {
   "display_name": "Python 3",
   "language": "python",
   "name": "python3"
  },
  "language_info": {
   "codemirror_mode": {
    "name": "ipython",
    "version": 3
   },
   "file_extension": ".py",
   "mimetype": "text/x-python",
   "name": "python",
   "nbconvert_exporter": "python",
   "pygments_lexer": "ipython3",
   "version": "3.6.5"
  }
 },
 "nbformat": 4,
 "nbformat_minor": 2
}
