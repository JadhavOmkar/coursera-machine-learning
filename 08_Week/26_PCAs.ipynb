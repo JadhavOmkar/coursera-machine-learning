{
 "cells": [
  {
   "cell_type": "markdown",
   "metadata": {},
   "source": [
    "# Principal Component Analysis"
   ]
  },
  {
   "cell_type": "markdown",
   "metadata": {},
   "source": [
    "## Principal Component Analysis Problem Formulation \n",
    "- We should find the points from the actual and the projection data are minimized or very closed to the projected line\n",
    "- ** A good practice is to do mean normalization before doing any calculation**\n",
    "- <img src=\"../images/PCA-3.png\"alt=\"Drawing\" style=\"width: 700px;\">\n",
    "- The same intution behind projecting it to a line is applied when projecting it into a plane\n",
    "- PCA IS **NOT** linear regression\n",
    "- PCA finds the way to minimize the magnitude of the line. \n",
    "- Linear regression finds the square difference between the predicted and actual point, they are vertical lines\n",
    "- <img src=\"../images/PCA-4.png\"alt=\"Drawing\" style=\"width: 700px;\">\n"
   ]
  },
  {
   "cell_type": "markdown",
   "metadata": {},
   "source": [
    "## Principal Component Analysis Algorithm\n",
    "- Data Preprocessing\n",
    "    - Feature scaling / mean normilization\n",
    "- Reduce data from n-dimension to k-dimensions\n",
    "- ** Confusion Term**: Single Value Decomposition, eigenvectors\n",
    "- <img src=\"../images/PCA-5.png\"alt=\"Drawing\" style=\"width: 500px;\">\n",
    "- <img src=\"../images/PCA-6.png\"alt=\"Drawing\" style=\"width: 500px;\">\n",
    "- <img src=\"../images/PCA-7.png\"alt=\"Drawing\" style=\"width: 500px;\"> "
   ]
  }
 ],
 "metadata": {
  "kernelspec": {
   "display_name": "Python 3",
   "language": "python",
   "name": "python3"
  },
  "language_info": {
   "codemirror_mode": {
    "name": "ipython",
    "version": 3
   },
   "file_extension": ".py",
   "mimetype": "text/x-python",
   "name": "python",
   "nbconvert_exporter": "python",
   "pygments_lexer": "ipython3",
   "version": "3.6.5"
  }
 },
 "nbformat": 4,
 "nbformat_minor": 2
}
