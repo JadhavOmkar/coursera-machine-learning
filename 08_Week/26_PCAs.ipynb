{
 "cells": [
  {
   "cell_type": "markdown",
   "metadata": {},
   "source": [
    "# Principal Component Analysis"
   ]
  },
  {
   "cell_type": "markdown",
   "metadata": {},
   "source": [
    "## Principal Component Analysis Problem Formulation \n",
    "- The goal is to minimize the project of the value into a lower level dimension \n",
    "- We need to reduce the dimension to make our problem more computationally efficient!\n",
    "- **A good practice is to do mean normalization before doing any calculation**\n",
    "- <img src=\"../images/PCA-3.png\" alt=\"Drawing\" style=\"width: 700px;\">\n",
    "- The same intution behind projecting it to a line is applied when projecting it into a plane\n",
    "- PCA IS **NOT** linear regression\n",
    "- PCA finds the way to minimize the magnitude of the line. \n",
    "- Linear regression finds the square difference between the predicted and actual point, they are vertical lines\n",
    "- <img src=\"../images/PCA-4.png\" alt=\"Drawing\" style=\"width: 700px;\">\n"
   ]
  },
  {
   "cell_type": "markdown",
   "metadata": {},
   "source": [
    "## Principal Component Analysis Algorithm\n",
    "\n",
    "**Reduce data from n-dimension to k-dimensions**\n",
    "1. Data Preprocessing\n",
    "    - Feature scaling / mean normilization\n",
    "2. Compute \"covariance matrix\"\n",
    "    - $1/m\\Sigma_{i=1}^n(x^{(1)})(x^{(1)})^T$\n",
    "3. Compute \"eigenvectors\" of matrix the formula above\n",
    "    - The eigenvectors are broken into three parts: U, S, V\n",
    "    - The **U** computes vectors which we will extract depending on the total number of k-dimension we want to reduce our data to\n",
    "    - <img src=\"../images/andrew_11.png\" alt=\"Drawing\" style=\"width: 400px;\">\n",
    "4. We can use the U matrix to compute with our X vector\n",
    "    - <img src=\"../images/andrew_12.png\" alt=\"Drawing\" style=\"width: 400px;\"> \n",
    " \n"
   ]
  }
 ],
 "metadata": {
  "kernelspec": {
   "display_name": "Python 3",
   "language": "python",
   "name": "python3"
  },
  "language_info": {
   "codemirror_mode": {
    "name": "ipython",
    "version": 3
   },
   "file_extension": ".py",
   "mimetype": "text/x-python",
   "name": "python",
   "nbconvert_exporter": "python",
   "pygments_lexer": "ipython3",
   "version": "3.6.6"
  }
 },
 "nbformat": 4,
 "nbformat_minor": 2
}
