{
 "cells": [
  {
   "cell_type": "markdown",
   "metadata": {},
   "source": [
    "# Multivariate Gaussian Distribution (Optional)"
   ]
  },
  {
   "cell_type": "markdown",
   "metadata": {},
   "source": [
    "## Multivariate Gaussian Distribution\n",
    "- When we look at the gaussian for each point in the vector, we might begin to think that the probability of it happening isn't that low as we would think. \n",
    "- In the given example, the model isn't picking the actual regression or shape of the data, and instead, it's focusing on the number around the data point.\n",
    "<img src=\"../images/anomaly-3.png\" alt=\"Drawing\" style=\"width: 600px;\"/> \n",
    "<img src=\"../images/anomaly-4.png\" alt=\"Drawing\" style=\"width: 300px;\"/>\n",
    "<img src=\"../images/anomaly-5.png\" alt=\"Drawing\" style=\"width: 600px;\"/>\n",
    "<img src=\"../images/anomaly-6.png\" alt=\"Drawing\" style=\"width: 600px;\"/>\n",
    "<img src=\"../images/anomaly-7.png\" alt=\"Drawing\" style=\"width: 600px;\"/>\n",
    "\n",
    "- The way that the prob. are handled is by cort of creating a topography map\n",
    "\n",
    "<img src=\"../images/anomaly-8.png\" alt=\"Drawing\" style=\"width: 600px;\"/>\n",
    "<img src=\"../images/anomaly-9.png\" alt=\"Drawing\" style=\"width: 600px;\"/>\n"
   ]
  },
  {
   "cell_type": "markdown",
   "metadata": {},
   "source": [
    "## Anomaly Detection Using Multivariate Guassian Distribution\n",
    "\n",
    "- ** As you will see in the next image, we are assuming that in the matrix for SIGMA, the only time the multivariate will be a gaussian distribution is if it the outsides (lower left and upper right) are 0 and we the topography reflects a circular spheres around the mean**\n",
    "<img src=\"../images/anomaly-10.png\" alt=\"Drawing\" style=\"width: 600px;\"/>\n",
    "<img src=\"../images/anomaly-11.png\" alt=\"Drawing\" style=\"width: 600px;\"/>"
   ]
  }
 ],
 "metadata": {
  "kernelspec": {
   "display_name": "Python 3",
   "language": "python",
   "name": "python3"
  },
  "language_info": {
   "codemirror_mode": {
    "name": "ipython",
    "version": 3
   },
   "file_extension": ".py",
   "mimetype": "text/x-python",
   "name": "python",
   "nbconvert_exporter": "python",
   "pygments_lexer": "ipython3",
   "version": "3.6.5"
  }
 },
 "nbformat": 4,
 "nbformat_minor": 2
}
