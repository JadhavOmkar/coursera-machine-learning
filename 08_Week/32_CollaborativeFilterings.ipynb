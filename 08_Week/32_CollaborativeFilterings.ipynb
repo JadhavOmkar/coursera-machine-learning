{
 "cells": [
  {
   "cell_type": "markdown",
   "metadata": {},
   "source": [
    "# Collaborative Filtering"
   ]
  },
  {
   "cell_type": "markdown",
   "metadata": {},
   "source": [
    "## Collaborative Filtering\n",
    "- We're reversed seeing what would we rate these movies, given the dislike or taste of these people and their movies\n",
    "- We can use either info. to find the remaining info.\n",
    "- In the more general sense, collaborative filtering is the process of filtering for information or patterns using techniques involving collaboration among multiple agents, viewpoints, data sources, etc.\n",
    "<img src=\"../images/CollaborativeFiltering-1.png\" alt=\"Drawing\" style=\"width: 600px;\"/>\n",
    "- ** YOU CAN GUESS THE THETA, AND YOU'LL EVENTUALLY GET IT, BUT THIS IS NOT QUITE EFFICIENT**\n"
   ]
  },
  {
   "cell_type": "markdown",
   "metadata": {},
   "source": [
    "## Collaborative Filtering Algorithm\n",
    "<img src=\"../images/CollaborativeFiltering-2.png\" alt=\"Drawing\" style=\"width: 600px;\"/>"
   ]
  }
 ],
 "metadata": {
  "kernelspec": {
   "display_name": "Python 3",
   "language": "python",
   "name": "python3"
  },
  "language_info": {
   "codemirror_mode": {
    "name": "ipython",
    "version": 3
   },
   "file_extension": ".py",
   "mimetype": "text/x-python",
   "name": "python",
   "nbconvert_exporter": "python",
   "pygments_lexer": "ipython3",
   "version": "3.6.5"
  }
 },
 "nbformat": 4,
 "nbformat_minor": 2
}
