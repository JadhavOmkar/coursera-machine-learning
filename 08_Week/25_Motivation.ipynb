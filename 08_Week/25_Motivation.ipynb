{
 "cells": [
  {
   "cell_type": "markdown",
   "metadata": {},
   "source": [
    "# Motivation"
   ]
  },
  {
   "cell_type": "markdown",
   "metadata": {},
   "source": [
    "## Motivation l: Data Compression\n",
    "- Reducing the amount of variables used in the equation\n",
    "    - From example, if we have inches and cms, maybe we can combine them as 1 single variable\n",
    "- If we have a 2-D point, we can project that onto a new 1-D line\n",
    "- <img src=\"../images/motivation-1.png\" alt=\"Drawing\" style=\"width: 500px;\">\n",
    "- Reducing 3-D into 2-D\n",
    "- Projecting the data from a 3-D onto a 2-D plane and then project into actual points in a 2-D graph\n",
    "- <img src=\"../images/motivation-2.png\" alt=\"Drawing\" style=\"width: 500px;\">\n",
    "- <img src=\"../images/motivation-3.png\" alt=\"Drawing\" style=\"width: 500px;\">\n"
   ]
  },
  {
   "cell_type": "markdown",
   "metadata": {},
   "source": [
    "## Motivation ll: Data Visualization \n",
    "- When have a large dataset with many economic features, like GDP, Employment, etc we could only find the values that represents the data without choosing all the n (dimensions)\n",
    "- So we would like reduce this 50-D into a 2-D.\n",
    "- How do we plot or find these reduced features?\n",
    "- The two points or ideas we choose is GDP of economy, and GPD per capita\n"
   ]
  }
 ],
 "metadata": {
  "kernelspec": {
   "display_name": "Python 3",
   "language": "python",
   "name": "python3"
  },
  "language_info": {
   "codemirror_mode": {
    "name": "ipython",
    "version": 3
   },
   "file_extension": ".py",
   "mimetype": "text/x-python",
   "name": "python",
   "nbconvert_exporter": "python",
   "pygments_lexer": "ipython3",
   "version": "3.6.6"
  }
 },
 "nbformat": 4,
 "nbformat_minor": 2
}
