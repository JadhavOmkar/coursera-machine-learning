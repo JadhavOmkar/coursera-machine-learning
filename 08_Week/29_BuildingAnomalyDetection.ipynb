{
 "cells": [
  {
   "cell_type": "markdown",
   "metadata": {},
   "source": [
    "# Building an Anomaly Detection System"
   ]
  },
  {
   "cell_type": "markdown",
   "metadata": {},
   "source": [
    "## Developing and Evaluating an Anomaly Detection System\n",
    "- Using the aircraft example:\n",
    "    - We can divide the data into two parts to see that\n",
    "        - The flaw example happens very infrequent\n",
    "- Remember that we are checking for the flaw occurence, where it happen very infrequent\n",
    "    - Thus, the results might be skewed\n",
    "    - A good way to check for the results is\n",
    "        - True positive, false positive, false negative, true negative\n",
    "        - Precision/Recall\n",
    "        - F1-Score"
   ]
  },
  {
   "cell_type": "markdown",
   "metadata": {},
   "source": [
    "## Anomaly Detection vs. Supervised Learning\n",
    "<img src=\"../images/Andrew-chpt9-8.png\" alt=\"Drawing\" style=\"width: 600px;\"/>\n",
    "- Anomaly Detection\n",
    "    - It's hard for a model to figure out the model bc there's not enough info.\n",
    "    - It's also good when these positive examples can be done in many ways\n",
    "<img src=\"../images/Andrew-chpt9-9.png\" alt=\"Drawing\" style=\"width: 600px;\"/>"
   ]
  },
  {
   "cell_type": "markdown",
   "metadata": {},
   "source": [
    "## Choosing What Features to Use\n",
    "- If you have the data, and its gaussian, leave at that.\n",
    "- Now, if you're data is not gaussian, you can do some transformation with hopes that the data will be gaussian\n",
    "- There are different ways to play aroun with the data \n",
    "- There is not only one way to change the data into gaussian\n",
    "<img src=\"../images/anomaly-1.png\" alt=\"Drawing\" style=\"width: 600px;\"/>      \n",
    "<img src=\"../images/anomaly-2.png\" alt=\"Drawing\" style=\"width: 600px;\"/>      \n"
   ]
  }
 ],
 "metadata": {
  "kernelspec": {
   "display_name": "Python 3",
   "language": "python",
   "name": "python3"
  },
  "language_info": {
   "codemirror_mode": {
    "name": "ipython",
    "version": 3
   },
   "file_extension": ".py",
   "mimetype": "text/x-python",
   "name": "python",
   "nbconvert_exporter": "python",
   "pygments_lexer": "ipython3",
   "version": "3.6.5"
  }
 },
 "nbformat": 4,
 "nbformat_minor": 2
}
