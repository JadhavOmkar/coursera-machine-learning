{
 "cells": [
  {
   "cell_type": "markdown",
   "metadata": {},
   "source": [
    "# Density Estimation"
   ]
  },
  {
   "cell_type": "markdown",
   "metadata": {},
   "source": [
    "## Problem Motivation\n",
    "- Anomaly detection\n",
    "    - **In data mining, anomaly detection (also outlier detection) is the identification of items, events or observations which do not conform to an expected pattern or other items in a dataset.**\n",
    "    - You're pretty much looking at similar observations and checking if the new observations is different than what the data has been showing.\n",
    "- Density Estimation\n",
    "    - You're checking the prob. of how these are different. If the prob. is less than some epilson, then you know that this rarely happens and it should signal an anomaly\n",
    "<img src=\"../images/Andrew-chpt9-1.png\" alt=\"Drawing\" style=\"width: 600px;\"/>"
   ]
  },
  {
   "cell_type": "markdown",
   "metadata": {},
   "source": [
    "## Gaussian Distribution\n",
    "<img src=\"../images/Andrew-chpt9-2.png\" alt=\"Drawing\" style=\"width: 600px;\"/>\n",
    "<img src=\"../images/Andrew-chpt9-3.png\" alt=\"Drawing\" style=\"width: 600px;\"/>\n"
   ]
  },
  {
   "cell_type": "markdown",
   "metadata": {},
   "source": [
    "## Algorithm\n",
    " - When you think about, it's quite simple\n",
    "    - You look at the problem and find the normal distribution of each row or observation\n",
    "    - Then you mulitply each of the normal distribution of each column for one row\n",
    "    - You then have an epilson and compare with the prob. of the product of each normal dist. \n",
    "    \n",
    "<img src=\"../images/Andrew-chpt9-4.png\" alt=\"Drawing\" style=\"width: 600px;\"/>\n",
    "<img src=\"../images/Andrew-chpt9-5.png\" alt=\"Drawing\" style=\"width: 300px;\"/>\n",
    "<img src=\"../images/Andrew-chpt9-6.png\" alt=\"Drawing\" style=\"width: 600px;\"/>\n",
    "<img src=\"../images/Andrew-chpt9-7.png\" alt=\"Drawing\" style=\"width: 600px;\"/>"
   ]
  }
 ],
 "metadata": {
  "kernelspec": {
   "display_name": "Python 3",
   "language": "python",
   "name": "python3"
  },
  "language_info": {
   "codemirror_mode": {
    "name": "ipython",
    "version": 3
   },
   "file_extension": ".py",
   "mimetype": "text/x-python",
   "name": "python",
   "nbconvert_exporter": "python",
   "pygments_lexer": "ipython3",
   "version": "3.6.5"
  }
 },
 "nbformat": 4,
 "nbformat_minor": 2
}
