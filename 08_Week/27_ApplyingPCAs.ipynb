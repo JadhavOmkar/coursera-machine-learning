{
 "cells": [
  {
   "cell_type": "markdown",
   "metadata": {},
   "source": [
    "# Applying PCA"
   ]
  },
  {
   "cell_type": "markdown",
   "metadata": {},
   "source": [
    "## Reconstruction from Compressed Representation \n",
    "- Before we want from 2D to 1D or 3D to 2D, can we reverse the method and go from 1D to 2D. I don't know why would we do this\n",
    "- <img src=\"../images/PCA-8.png\"alt=\"Drawing\" style=\"width: 700px;\"> "
   ]
  },
  {
   "cell_type": "markdown",
   "metadata": {},
   "source": [
    "## Choosing the Number of Principal Components \n",
    "- Average squared projection error\n",
    "- Total variation in the data: This tells you on average how far are the training examples from the origin\n",
    "- Don't worry that much on \"99% variance retained\", just know that this means that the formula below is less than one percent.\n",
    "- <img src=\"../images/PCA-10.png\"alt=\"Drawing\" style=\"width: 500px;\">\n",
    "- There are two ways, look at the image below\n",
    "- For the right side, are dividing the red circle by the purple circle\n",
    "- <img src=\"../images/PCA-11.png\"alt=\"Drawing\" style=\"width: 700px;\">"
   ]
  },
  {
   "cell_type": "markdown",
   "metadata": {},
   "source": [
    "## Advice for Applying PCA\n",
    "- **Supervised learning speedup**\n",
    "    - If you're doing image processing, and you have a 100 by 100 image, you really have 10000 pixel feature and this can take a lot of time\n",
    "    - <img src=\"../images/PCA-11.png\"alt=\"Drawing\" style=\"width: 700px;\">\n",
    "    - Thus, you need a better way to do\n",
    "    - ONLY PERFORM THE PCA ON THE TESTING SET AND NOT THE CV SET!\n",
    "- **Application of PCA**\n",
    "    - Compression\n",
    "        - Reduce memory/disk needed to store data\n",
    "        - Speed up the algorithm\n",
    "    - Visualization\n",
    "        - Works with k = 2 or k = 3\n",
    "- **Bad USE of PCA**\n",
    "    - People think that using reducing features for OVERFITTING\n",
    "    - You might throw some valuable information\n",
    "    - USE REGULARIZATION\n",
    "- <img src=\"../images/PCA-12.png\"alt=\"Drawing\" style=\"width: 700px;\"> "
   ]
  }
 ],
 "metadata": {
  "kernelspec": {
   "display_name": "Python 3",
   "language": "python",
   "name": "python3"
  },
  "language_info": {
   "codemirror_mode": {
    "name": "ipython",
    "version": 3
   },
   "file_extension": ".py",
   "mimetype": "text/x-python",
   "name": "python",
   "nbconvert_exporter": "python",
   "pygments_lexer": "ipython3",
   "version": "3.6.5"
  }
 },
 "nbformat": 4,
 "nbformat_minor": 2
}
