{
 "cells": [
  {
   "cell_type": "markdown",
   "metadata": {},
   "source": [
    "# Predicting Movie Ratings"
   ]
  },
  {
   "cell_type": "markdown",
   "metadata": {},
   "source": [
    "## Problem Formulation\n",
    "<img src=\"../images/prediction-1.png\" alt=\"Drawing\" style=\"width: 500px;\"/>\n"
   ]
  },
  {
   "cell_type": "markdown",
   "metadata": {},
   "source": [
    "## Content Based Recommendations\n",
    "- As we will see, we are adding some new features that categorized the data in romance and action\n",
    "- This then created a 3-D Vector with the first index as the row, then the next is the ratio the movie is to their respective category\n",
    "- We would then use this vector and mult. it tp the theta of the delta matrix of each user\n",
    "\n",
    "<img src=\"../images/prediction-2.png\" alt=\"Drawing\" style=\"width: 500px;\"/>\n",
    "<img src=\"../images/prediction-3.png\" alt=\"Drawing\" style=\"width: 500px;\"/>\n",
    "\n",
    "\n",
    "<img src=\"../images/prediction-4.png\" alt=\"Drawing\" style=\"width: 500px;\"/>\n",
    "<img src=\"../images/prediction-5.png\" alt=\"Drawing\" style=\"width: 500px;\"/>"
   ]
  }
 ],
 "metadata": {
  "kernelspec": {
   "display_name": "Python 3",
   "language": "python",
   "name": "python3"
  },
  "language_info": {
   "codemirror_mode": {
    "name": "ipython",
    "version": 3
   },
   "file_extension": ".py",
   "mimetype": "text/x-python",
   "name": "python",
   "nbconvert_exporter": "python",
   "pygments_lexer": "ipython3",
   "version": "3.6.5"
  }
 },
 "nbformat": 4,
 "nbformat_minor": 2
}
