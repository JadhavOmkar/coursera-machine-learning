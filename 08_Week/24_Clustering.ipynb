{
 "cells": [
  {
   "cell_type": "markdown",
   "metadata": {},
   "source": [
    "# Clustering"
   ]
  },
  {
   "cell_type": "markdown",
   "metadata": {},
   "source": [
    "## Unsurpvised Learning: Introduction\n",
    "- **Unsurpvised Learning**: We just ask the algorithm to find some structure in the dataset\n",
    "- Clustering algorithm finds some clusters, patterns, in the data set.\n",
    "- This is good for market segment, like in marketing, so you can sell things to different people differently.\n",
    "- Find coherrent group in a social network.\n",
    "- There are specific clustering algorithms"
   ]
  },
  {
   "cell_type": "markdown",
   "metadata": {},
   "source": [
    "## K-Means\n",
    "- First, choose two random points in the dataset. These points will be called **Cluster Centroids**\n",
    "- Then, each point gets assign to the specific classification is closet to.\n",
    "- It finds the average, and the original points changes from it original spot to the average point\n",
    "- There will be two things to keep in mind:\n",
    "    - K (number of clusters)\n",
    "    - Training sets\n",
    "    - <img src=\"../images/Clustering-1.png\" alt=\"Drawing\" style=\"width: 500px;\">\n",
    "- ** K-Means with no clustering**\n",
    "    - <img src=\"../images/Clustering-2.png\" alt=\"Drawing\" style=\"width: 500px;\">\n"
   ]
  },
  {
   "cell_type": "markdown",
   "metadata": {},
   "source": [
    "## Optimization Objective\n",
    "- Remember: Capital K is the total number of clusters, lower k is the index of each individual cluster\n",
    "- c(i) is the index of the cluster to which the independent variable, x, is currently assigned too\n",
    "    - <img src=\"../images/cluster-3.png\" alt=\"Drawing\" style=\"width: 700px;\">\n",
    "- The cost function is called **The distortion of the K-means Algorithm**\n",
    "    - <img src=\"../images/cluster-4.png\"alt=\"Drawing\" style=\"width: 500px;\">\n"
   ]
  },
  {
   "cell_type": "markdown",
   "metadata": {},
   "source": [
    "## Random Initialization\n",
    "- Should have K, clusters, less than the numbers of m, observations.\n",
    "- Just pick random points, and they will assign the random points. \n",
    "- The bad thing is that depending on the random points, you might get differen results\n",
    "- <img src=\"../images/cluster-5.png\"alt=\"Drawing\" style=\"width: 700px;\">\n",
    "- As we see, the bad thing is that the clusters can get stuck at the local optima where all the points are not correctly clustered\n",
    "- A solution can be to initialize K a lot of times\n",
    "- Repeating this whole process only works if our K isn't that large\n"
   ]
  },
  {
   "cell_type": "markdown",
   "metadata": {},
   "source": [
    "## Choosing the Number of Clusters\n",
    "- The best way to choose the number of cluster is using visualization and picking it by hands\n",
    "- The right number of cluster doesn't have a clear-cut answers!\n",
    "- ** Elbow Method**:\n",
    "<img src=\"../images/cluster-6.png\"alt=\"Drawing\" style=\"width: 700px;\">\n",
    "    - The reason the elbow method is not use is because the cost function is usually like the right side where there's no clear-cut of where the \"elbow\" lies\n",
    "    - <img src=\"../images/cluster-7.png\"alt=\"Drawing\" style=\"width: 700px;\"> "
   ]
  }
 ],
 "metadata": {
  "kernelspec": {
   "display_name": "Python 3",
   "language": "python",
   "name": "python3"
  },
  "language_info": {
   "codemirror_mode": {
    "name": "ipython",
    "version": 3
   },
   "file_extension": ".py",
   "mimetype": "text/x-python",
   "name": "python",
   "nbconvert_exporter": "python",
   "pygments_lexer": "ipython3",
   "version": "3.6.5"
  }
 },
 "nbformat": 4,
 "nbformat_minor": 2
}
