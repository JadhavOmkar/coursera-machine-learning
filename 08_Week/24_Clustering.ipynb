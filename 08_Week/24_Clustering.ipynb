{
 "cells": [
  {
   "cell_type": "markdown",
   "metadata": {},
   "source": [
    "# Clustering"
   ]
  },
  {
   "cell_type": "markdown",
   "metadata": {},
   "source": [
    "## Unsurpvised Learning: Introduction\n",
    "- **Unsurpvised Learning**: \n",
    "    - We 'ask' the algorithm to find some structure in the dataset\n",
    "- Clustering algorithm finds some clusters, patterns, in the data set.\n",
    "- This is good for market segment, like in marketing, so you can sell things to different people differently.\n",
    "- Find coherrent group in a social network.\n",
    "- There are specific clustering algorithms"
   ]
  },
  {
   "cell_type": "markdown",
   "metadata": {},
   "source": [
    "## K-Means\n",
    "- First, choose two random points in the dataset. These points will be called **Cluster Centroids**\n",
    "- Then, the value gets assign to the classification is Euclidean distance is closest to\n",
    "- It calculates the average of all the value per cluster\n",
    "- Hence, the original centroid changes from it original spot to the average position\n",
    "- There will be two things to keep in mind:\n",
    "    - K (number of clusters)\n",
    "    - Training sets\n",
    "    - <img src=\"../images/Clustering-1.png\" alt=\"Drawing\" style=\"width: 500px;\">\n",
    "- **K-Means with no clustering**\n",
    "    - <img src=\"../images/Clustering-2.png\" alt=\"Drawing\" style=\"width: 500px;\">\n"
   ]
  },
  {
   "cell_type": "markdown",
   "metadata": {},
   "source": [
    "## Optimization Objective\n",
    "- Remember: \n",
    "    - Capital K is the total number of clusters, lower k is the index of each individual cluster\n",
    "- $c^{(i)}$ is the index of the cluster to which the independent variable, x, is currently assigned too\n",
    "    - <img src=\"../images/cluster-3.png\" alt=\"Drawing\" style=\"width: 700px;\">\n",
    "- The cost function is called **The distortion of the K-means Algorithm**\n",
    "    - <img src=\"../images/andrew_10.png\" alt=\"Drawing\" style=\"width: 500px;\">\n",
    "\n",
    "The objective is broken into two parts. We first need to find the centroid thats closet to our value which is calculated with the Euclidean distance. Secondly, we move our centroid the the average of inputs per class."
   ]
  },
  {
   "cell_type": "markdown",
   "metadata": {},
   "source": [
    "## Random Initialization\n",
    "- To randomize the number of clusters, you should...\n",
    "    - K, clusters, should be less than the numbers of m, observations.\n",
    "    - Choose random examples as centroids!\n",
    "- The bad thing is that the random points could provide different results\n",
    "- <img src=\"../images/cluster-5.png\" alt=\"Drawing\" style=\"width: 700px;\">\n",
    "- The con is that the clusters can get stuck at the local optima where all the points are not correctly clustered\n",
    "- A solution can be to initialize K multiple times\n",
    "- Repeating this whole process only works if our K isn't that large (e.g. could randomized the K 100 times)\n",
    "    - Choose the randomizition that produces the lowest cost!\n"
   ]
  },
  {
   "cell_type": "markdown",
   "metadata": {},
   "source": [
    "## Choosing the Number of Clusters\n",
    "- The best way to choose the number of cluster is using visualization and picking it by hands\n",
    "- The right number of cluster doesn't have a clear-cut answers!\n",
    "- **Elbow Method**:\n",
    "<img src=\"../images/cluster-6.png\" alt=\"Drawing\" style=\"width: 700px;\">\n",
    "\n",
    "- The elbow method makes it difficult to find a clear-cut point!\n",
    "\n",
    "Another idea is to look at the the business problem. For example, the image below could be represented as optimital depending on the business question (cost/customer/season) for shirts\n",
    "- <img src=\"../images/cluster-7.png\" alt=\"Drawing\" style=\"width: 700px;\"> "
   ]
  }
 ],
 "metadata": {
  "kernelspec": {
   "display_name": "Python 3",
   "language": "python",
   "name": "python3"
  },
  "language_info": {
   "codemirror_mode": {
    "name": "ipython",
    "version": 3
   },
   "file_extension": ".py",
   "mimetype": "text/x-python",
   "name": "python",
   "nbconvert_exporter": "python",
   "pygments_lexer": "ipython3",
   "version": "3.6.6"
  }
 },
 "nbformat": 4,
 "nbformat_minor": 2
}
