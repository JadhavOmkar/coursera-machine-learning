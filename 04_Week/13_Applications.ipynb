{
 "cells": [
  {
   "cell_type": "markdown",
   "metadata": {},
   "source": [
    "# Applications"
   ]
  },
  {
   "cell_type": "markdown",
   "metadata": {},
   "source": [
    "## Examples and Intuition I\n",
    "<img src=\"../images/NN-5.png\" alt=\"Drawing\" style=\"width: 450px;\"/>\n",
    "<img src=\"../images/NN-6.png\" alt=\"Drawing\" style=\"width: 450px;\"/>\n",
    "<img src=\"../images/NN-7.png\" alt=\"Drawing\" style=\"width: 450px;\"/>"
   ]
  },
  {
   "cell_type": "markdown",
   "metadata": {},
   "source": [
    "## Examples and Intuition II\n",
    "<img src=\"../images/NN-8.png\" alt=\"Drawing\" style=\"width: 450px;\"/>\n",
    "<img src=\"../images/NN-9.png\" alt=\"Drawing\" style=\"width: 450px;\"/>"
   ]
  },
  {
   "cell_type": "markdown",
   "metadata": {},
   "source": [
    "## Multiclass classification\n",
    "<img src=\"../images/NN-10.png\" alt=\"Drawing\" style=\"width: 450px;\"/>\n",
    "<img src=\"../images/NN-11.png\" alt=\"Drawing\" style=\"width: 450px;\"/>"
   ]
  }
 ],
 "metadata": {
  "kernelspec": {
   "display_name": "Python 3",
   "language": "python",
   "name": "python3"
  },
  "language_info": {
   "codemirror_mode": {
    "name": "ipython",
    "version": 3
   },
   "file_extension": ".py",
   "mimetype": "text/x-python",
   "name": "python",
   "nbconvert_exporter": "python",
   "pygments_lexer": "ipython3",
   "version": "3.6.6"
  }
 },
 "nbformat": 4,
 "nbformat_minor": 2
}
