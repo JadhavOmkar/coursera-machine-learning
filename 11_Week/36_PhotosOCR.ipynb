{
 "cells": [
  {
   "cell_type": "markdown",
   "metadata": {},
   "source": [
    "# Photo OCR"
   ]
  },
  {
   "cell_type": "markdown",
   "metadata": {},
   "source": [
    "## Problem Description and Pipeline\n",
    "\n",
    "Photo OCR focuses on trying to read the text that appears in images!\n",
    "1. The first step is to identify where there's text in the image.\n",
    "2. Secondly, we try to segment the words based on the spacing between them!\n",
    "3. Third, we then run a character classifier where we try to predict the characters in the images!\n",
    "    - There are character classifier that can identify if the characters make sense is an actual word. If not, it predict what you the text actually states!\n",
    "- Stands for Photo Optical Character Recognition\n",
    "<img src=\"../images/Photo-1.png\" alt=\"Drawing\" style=\"width: 400px;\"/>\n"
   ]
  },
  {
   "cell_type": "markdown",
   "metadata": {},
   "source": [
    "## Sliding Windows\n",
    "- You break down the problem into some different portions\n",
    "- You first find way to categorize the data, say for people, there's a rectangle that probably means the ratio of the person\n",
    "- You then give it correct and wrong data examples that have the desired dimension\n",
    "    - <img src=\"../images/Photo-2.png\" alt=\"Drawing\" style=\"width: 400px;\"/>\n",
    "- You perform the stepside/sliding technique where you run through the entire photo\n",
    "    - <img src=\"../images/Photo-3.png\" alt=\"Drawing\" style=\"width: 400px;\"/>\n",
    "\n",
    "- For text detention, when looking for text boxes, we run our sliding windows across the entire image. We extract the values and then we create a black/white image where the white represents information from the sliding window.\n",
    "- Now, to magnfiy probability of correct text boxes, we magnify white spaces that are close together. This is the exansion.\n",
    "    - <img src=\"../images/Photo-4.png\" alt=\"Drawing\" style=\"width: 400px;\"/>\n",
    "- For **STEP 2**, where we character segment the words, we perform the sliding window to extract the carahcters. Hence, we pass it images where it could segment the spaces correctly and incorrrectly. Thus, it will learn how to properly break a split!\n",
    "    - <img src=\"../images/Photo-5.png\" alt=\"Drawing\" style=\"width: 400px;\"/>"
   ]
  },
  {
   "cell_type": "markdown",
   "metadata": {},
   "source": [
    "## Getting Lots of Data and Artificial Data\n",
    "\n",
    "Artificial Data Sythesis: (is comprised by two parts)\n",
    "1. We create data from scratch\n",
    "2. We could use the current to recreate new data\n",
    "    - For example, you can recreate text by reshaping the characters, changing the background, or changing the font. \n",
    "    - <img src=\"../images/Photo-7.png\" alt=\"Drawing\" style=\"width: 400px;\"/>\n",
    "\n",
    "\n",
    "- For speech, we can add different background noises that will help us teach the model to avoid the noise after a lot of iterations.\n",
    "- **DO NOT add random noise to the data without a purpose. The noise should mimick noises that the model will encounter**\n",
    "    - <img src=\"../images/Photo-8.png\" alt=\"Drawing\" style=\"width: 400px;\"/>\n",
    "- Final point:\n",
    "    - <img src=\"../images/Photo-9.png\" alt=\"Drawing\" style=\"width: 400px;\"/>\n"
   ]
  },
  {
   "cell_type": "markdown",
   "metadata": {},
   "source": [
    "## Ceiling Analysis: What Part of the Pipeline to Work on Next\n",
    "\n",
    "The ceiling analysis tries to solve the problem of uncovering where we need to spend most of resources in the pipeline. It is not always efficient to focus on fixing the pipeline...\n",
    "- The accuracy on the test-set images is 72%\n",
    "- For the text detection, we manually label ground_truth data. We compare the actual with the information calculated by the model\n",
    "- Using the ground_truth, we compute the results for the remaining of the pipeline\n",
    "- Using the image below, we are able to tell the difference in accuracy can provide the upside of improving the model!\n",
    "    - <img src=\"../images/Photo-6.png\" alt=\"Drawing\" style=\"width: 400px;\"/>\n"
   ]
  }
 ],
 "metadata": {
  "kernelspec": {
   "display_name": "Python 3",
   "language": "python",
   "name": "python3"
  },
  "language_info": {
   "codemirror_mode": {
    "name": "ipython",
    "version": 3
   },
   "file_extension": ".py",
   "mimetype": "text/x-python",
   "name": "python",
   "nbconvert_exporter": "python",
   "pygments_lexer": "ipython3",
   "version": "3.6.6"
  }
 },
 "nbformat": 4,
 "nbformat_minor": 2
}
