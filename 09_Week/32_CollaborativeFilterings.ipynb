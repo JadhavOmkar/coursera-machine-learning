{
 "cells": [
  {
   "cell_type": "markdown",
   "metadata": {},
   "source": [
    "# Collaborative Filtering"
   ]
  },
  {
   "cell_type": "markdown",
   "metadata": {},
   "source": [
    "## Collaborative Filtering\n",
    "- One of the issues with the content-based recommendaiton approach is that we might not be able to get the features. For example, understanding that a movie is romance or action would require people to watch the whole movie... is there a more efficient method?\n",
    "- Another method would be to understand people's preference and see how they compare to the movies they liked\n",
    "    - For example, if people don't like romance movies and some do, we can see the movies that people rated high (people who like romance movies) and if another segmentation of people rated the movie low (people who don't like romance movies)... we can infer that the movie is a romance movie\n",
    "- In the more general sense, collaborative filtering is the process of filtering for information/patterns using \"collaboration filtering\" is the opposite to the content-based recommendation.\n",
    "    - Instead of predicting the $\\theta$, we are predicing for the values of romance/action movies\n",
    "    - Hence, the $\\theta$ is provided by the user...\n",
    "    - The optimization technique is similar to a regression problem. We compare our prediction against the actual value that the user rated the movie.\n",
    "<img src=\"../images/CollaborativeFiltering-1.png\" alt=\"Drawing\" style=\"width: 350px;\"/>\n",
    "- **YOU CAN GUESS THE $\\theta$, AND YOU'LL EVENTUALLY GET IT, BUT THIS IS NOT QUITE EFFICIENT**\n",
    "- The problem that is now posed is what should be solved: Should we focus on predicting the x values or $\\theta$"
   ]
  },
  {
   "cell_type": "markdown",
   "metadata": {},
   "source": [
    "## Collaborative Filtering Algorithm\n",
    "\n",
    "**The key idea behind CF is that similar users share the same interest and that similar items are liked by a user.**\n",
    "\n",
    "The previous three section explain how the problem could be broken into two parts: predicting the $\\theta$ or predicting the x values\n",
    "- <img src=\"../images/andrew_13.png\" alt=\"Drawing\" style=\"width: 400px;\"/>\n",
    "\n",
    "Predicing $\\theta$, entails we are summing through every movie for each user & summing the calculation for all users.\n",
    "\n",
    "Predicing $\\theta$, entails we are summing through user & summing the calculation for all movies.\n",
    "\n",
    "Instead of minimizing both algorithms (by going back and forth between), we the new algorithm, we can minimize the cost function by simultaneously reducing the cost function for both functions\n",
    "\n",
    "Blueprint/Strucuture to follow:\n",
    "- <img src=\"../images/CollaborativeFiltering-2.png\" alt=\"Drawing\" style=\"width: 400px;\"/>"
   ]
  }
 ],
 "metadata": {
  "kernelspec": {
   "display_name": "Python 3",
   "language": "python",
   "name": "python3"
  },
  "language_info": {
   "codemirror_mode": {
    "name": "ipython",
    "version": 3
   },
   "file_extension": ".py",
   "mimetype": "text/x-python",
   "name": "python",
   "nbconvert_exporter": "python",
   "pygments_lexer": "ipython3",
   "version": "3.6.6"
  }
 },
 "nbformat": 4,
 "nbformat_minor": 2
}
