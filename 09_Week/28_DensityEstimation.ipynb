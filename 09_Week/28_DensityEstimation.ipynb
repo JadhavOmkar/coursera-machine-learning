{
 "cells": [
  {
   "cell_type": "markdown",
   "metadata": {},
   "source": [
    "# Density Estimation"
   ]
  },
  {
   "cell_type": "markdown",
   "metadata": {},
   "source": [
    "## Problem Motivation\n",
    "- Anomaly detection\n",
    "    - **In data mining, anomaly detection (also outlier detection) is the identification of items, events or observations which do not conform to an expected pattern or other items in a dataset.**\n",
    "    - You're pretty much looking at similar observations and checking if the new observations is different than what the data has been showing.\n",
    "    \n",
    "- Density Estimation\n",
    "    - You're checking the probability of how these are different. If the probability is less than some epilson, this signals that the event rarely happens and should be labeled an anomaly\n",
    "<img src=\"../images/Andrew-chpt9-1.png\" alt=\"Drawing\" style=\"width: 500px;\"/>\n",
    "\n",
    "- Anomaly detection example\n",
    "    - Fraud detection\n",
    "    - Manufacturing\n",
    "    - Monitoring computers in a data center"
   ]
  },
  {
   "cell_type": "markdown",
   "metadata": {},
   "source": [
    "## Gaussian Distribution\n",
    "<img src=\"../images/Andrew-chpt9-2.png\" alt=\"Drawing\" style=\"width: 500px;\"/>\n",
    "<img src=\"../images/Andrew-chpt9-3.png\" alt=\"Drawing\" style=\"width: 500px;\"/>"
   ]
  },
  {
   "cell_type": "markdown",
   "metadata": {},
   "source": [
    "## Algorithm\n",
    "<img src=\"../images/Andrew-chpt9-4.png\" alt=\"Drawing\" style=\"width: 400px;\"/>\n",
    "\n",
    "- You look at the problem and find the normal distribution of each observation\n",
    "- Then you mulitply each of the normal distribution for each value\n",
    "- You then have an epilson and compare with the probability of the product of each normal distribution\n",
    "\n",
    "<img src=\"../images/Andrew-chpt9-6.png\" alt=\"Drawing\" style=\"width: 500px;\"/>\n",
    "<img src=\"../images/Andrew-chpt9-7.png\" alt=\"Drawing\" style=\"width: 500px;\"/>"
   ]
  }
 ],
 "metadata": {
  "kernelspec": {
   "display_name": "Python 3",
   "language": "python",
   "name": "python3"
  },
  "language_info": {
   "codemirror_mode": {
    "name": "ipython",
    "version": 3
   },
   "file_extension": ".py",
   "mimetype": "text/x-python",
   "name": "python",
   "nbconvert_exporter": "python",
   "pygments_lexer": "ipython3",
   "version": "3.6.6"
  }
 },
 "nbformat": 4,
 "nbformat_minor": 2
}
