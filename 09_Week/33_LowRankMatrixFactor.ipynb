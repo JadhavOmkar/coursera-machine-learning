{
 "cells": [
  {
   "cell_type": "markdown",
   "metadata": {},
   "source": [
    "# Low Rank Matrix Factorization"
   ]
  },
  {
   "cell_type": "markdown",
   "metadata": {},
   "source": [
    "## Vectorization: Low Rank Matrix Factorization\n",
    "- When looking at these problems, like the picture below, the user is listed as the column, and the movie is listed as the row\n",
    "- The \"predicted rating\" is the prediction matrix (graph to the right) corresponds to the matrix on the left (Y)\n",
    "    - <img src=\"../images/MatrixFactorization-2.png\" alt=\"Drawing\" style=\"width: 400px;\"/>\n",
    "- Using this method, we will learn features that are discovered/calculated automatically by our algorithm!\n",
    "    \n",
    "- We could find similar movies by comparing the features that our algorithm computed\n",
    "    - <img src=\"../images/MatrixFactorization-3.png\" alt=\"Drawing\" style=\"width: 400px;\"/>\n"
   ]
  },
  {
   "cell_type": "markdown",
   "metadata": {},
   "source": [
    "## Implementational Detail: Mean Normalization\n",
    "- When there's no data for a user, the model will predict 0 for all the movies. If we break down the equation using the three components:\n",
    "    - First component: This will be 0 since x is 0 (we don't know what the user preference in features), \n",
    "    - Second component: This will also be 0 (x=0)\n",
    "    - The third component: Because the two previous comoponents will be 0 and since our cost function will minimize our function, our model will compute the $\\theta$ to be 0! \n",
    "- Hence, our predicted value for our function will 0! This is not very efficient!\n",
    "- To fix the problem, we would compute Mean Normalization\n",
    "<img src=\"../images/MatrixFactorization-4.png\" alt=\"Drawing\" style=\"width: 400px;\"/>\n",
    "\n",
    "**Mean Normalization**\n",
    "- We use the average of each column and make a vector (n by 1)\n",
    "- This will only apply to the data that has data and are NOT unknown\n",
    "- We then subract the average to each data into a new matrix\n",
    "<img src=\"../images/MatrixFactorization-5.png\" alt=\"Drawing\" style=\"width: 400px;\"/>\n",
    "- The image above shows that will still use the new matrix to compute our algorithm! $\\theta^T * X$, which will give us zero but now we add the mean term. Thus, we will predict the mean for values that information is not provided!"
   ]
  }
 ],
 "metadata": {
  "kernelspec": {
   "display_name": "Python 3",
   "language": "python",
   "name": "python3"
  },
  "language_info": {
   "codemirror_mode": {
    "name": "ipython",
    "version": 3
   },
   "file_extension": ".py",
   "mimetype": "text/x-python",
   "name": "python",
   "nbconvert_exporter": "python",
   "pygments_lexer": "ipython3",
   "version": "3.6.6"
  }
 },
 "nbformat": 4,
 "nbformat_minor": 2
}
