{
 "cells": [
  {
   "cell_type": "markdown",
   "metadata": {},
   "source": [
    "# Building an Anomaly Detection System"
   ]
  },
  {
   "cell_type": "markdown",
   "metadata": {},
   "source": [
    "## Developing and Evaluating an Anomaly Detection System\n",
    "- To discover any anomalies in our dataset, we would have to typically split the data into the training, testing, and validation set. We should include the anomalies in the testing and training set because we wouldn't want our training set to learn anything from our the anomalies.\n",
    "- The idea is similar to a supervised training example. Instead, of training the data to find a predicted value, we training the data to uncover if its anomaly or not.\n",
    "- Remember that we are checking for the flaw occurence, where it happen very infrequent\n",
    "    - Thus, the results might be skewed\n",
    "    - A good way to check for the results is\n",
    "        - True positive, false positive, false negative, true negative\n",
    "        - Precision/Recall\n",
    "        - F1-Score"
   ]
  },
  {
   "cell_type": "markdown",
   "metadata": {},
   "source": [
    "## Anomaly Detection vs. Supervised Learning\n",
    "<img src=\"../images/Andrew-chpt9-8.png\" alt=\"Drawing\" style=\"width: 500px;\"/>\n",
    "\n",
    "- Anomaly Detection\n",
    "    - It's hard for a model to figure out the model bc there's not enough info.\n",
    "\n",
    "<img src=\"../images/Andrew-chpt9-9.png\" alt=\"Drawing\" style=\"width: 500px;\"/>"
   ]
  },
  {
   "cell_type": "markdown",
   "metadata": {},
   "source": [
    "## Choosing What Features to Use\n",
    "- If the distribution of your data is Gaussian Distribtution, you do not need to any more.\n",
    "- Now, if you're data is not gaussian, you can do some transformation with hopes that the data will be gaussian\n",
    "- There are different ways to transform your data into a Gaussian Distribtution \n",
    "- There is not only one way to change the data into Gaussian Distribtution\n",
    "<img src=\"../images/anomaly-1.png\" alt=\"Drawing\" style=\"width: 500px;\"/>      \n",
    "<img src=\"../images/anomaly-2.png\" alt=\"Drawing\" style=\"width: 500px;\"/>      \n"
   ]
  }
 ],
 "metadata": {
  "kernelspec": {
   "display_name": "Python 3",
   "language": "python",
   "name": "python3"
  },
  "language_info": {
   "codemirror_mode": {
    "name": "ipython",
    "version": 3
   },
   "file_extension": ".py",
   "mimetype": "text/x-python",
   "name": "python",
   "nbconvert_exporter": "python",
   "pygments_lexer": "ipython3",
   "version": "3.6.6"
  }
 },
 "nbformat": 4,
 "nbformat_minor": 2
}
