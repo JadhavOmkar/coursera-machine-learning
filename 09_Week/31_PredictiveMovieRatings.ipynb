{
 "cells": [
  {
   "cell_type": "markdown",
   "metadata": {},
   "source": [
    "# Predicting Movie Ratings"
   ]
  },
  {
   "cell_type": "markdown",
   "metadata": {},
   "source": [
    "## Problem Formulation\n",
    "<img src=\"../images/prediction-1.png\" alt=\"Drawing\" style=\"width: 500px;\"/>\n"
   ]
  },
  {
   "cell_type": "markdown",
   "metadata": {},
   "source": [
    "## Content Based Recommendations\n",
    "- In the example (check images), we are building two new features for the data: romance & action\n",
    "- The \"question\" entries indicate the movie we are trying to predict\n",
    "    - <img src=\"../images/prediction-2.png\" alt=\"Drawing\" style=\"width: 350px;\"/>\n",
    "- Using the two new columns, we will create a vector with both columns plus the bias term\n",
    "- Using this new vector, we compute the dot product with $\\theta$. However, how the $\\theta$ isn't explained yet...\n",
    "    - <img src=\"../images/prediction-3.png\" alt=\"Drawing\" style=\"width: 350px;\"/>\n",
    "- Terms:\n",
    "    - <img src=\"../images/prediction-4.png\" alt=\"Drawing\" style=\"width: 350px;\"/>\n",
    "- Training the data is similar to a linear regression. We have the same cost function, where the goal is to minimize the cost function. This will help us calculate the $\\theta$\n",
    "- Performing this cost function for all users will compute a $\\theta$ specific for all users\n",
    "    - <img src=\"../images/prediction-5.png\" alt=\"Drawing\" style=\"width: 350px;\"/>"
   ]
  }
 ],
 "metadata": {
  "kernelspec": {
   "display_name": "Python 3",
   "language": "python",
   "name": "python3"
  },
  "language_info": {
   "codemirror_mode": {
    "name": "ipython",
    "version": 3
   },
   "file_extension": ".py",
   "mimetype": "text/x-python",
   "name": "python",
   "nbconvert_exporter": "python",
   "pygments_lexer": "ipython3",
   "version": "3.6.6"
  }
 },
 "nbformat": 4,
 "nbformat_minor": 2
}
