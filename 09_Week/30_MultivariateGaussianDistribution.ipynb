{
 "cells": [
  {
   "cell_type": "markdown",
   "metadata": {},
   "source": [
    "# Multivariate Gaussian Distribution (Optional)"
   ]
  },
  {
   "cell_type": "markdown",
   "metadata": {},
   "source": [
    "## Multivariate Gaussian Distribution\n",
    "- One of the issues with detecting anomalies is that if we only focus on certain dimensions and do not focus on the trend that the dimension are a part of\n",
    "- For example, in the image below, we notice that the x1 and x2 do not represent any anomalies (when looking at them individually). But if we look at them in 2-D space, we notice that they do not fit the trend that the graph creates\n",
    "    - <img src=\"../images/anomaly-3.png\" alt=\"Drawing\" style=\"width: 300px;\"/> \n",
    "- A way to aid the problem would be to plot the distrbution among a higher-level dimension\n",
    "- We can get a Gaussian Distribution in 3-D dimension (we have to play around with the sigma and mu parameters)\n",
    "    - <img src=\"../images/anomaly-4.png\" alt=\"Drawing\" style=\"width: 200px;\"/>\n",
    "- By changing the parameters... we can change the distribution for the graph\n",
    "    - <img src=\"../images/anomaly-5.png\" alt=\"Drawing\" style=\"width: 350px;\"/>\n",
    "    - <img src=\"../images/anomaly-6.png\" alt=\"Drawing\" style=\"width: 350px;\"/>\n",
    "    - <img src=\"../images/anomaly-7.png\" alt=\"Drawing\" style=\"width: 350px;\"/>\n",
    "\n",
    "Equation to create the Guassian Distribution:\n",
    "- <img src=\"../images/anomaly-8.png\" alt=\"Drawing\" style=\"width: 350px;\"/>\n",
    "- <img src=\"../images/anomaly-9.png\" alt=\"Drawing\" style=\"width: 350px;\"/>\n"
   ]
  },
  {
   "cell_type": "markdown",
   "metadata": {},
   "source": [
    "## Anomaly Detection Using Multivariate Guassian Distribution\n",
    "\n",
    "- **As you will see in the next image, we are assuming that in the matrix for SIGMA, the only time the multivariate will be a gaussian distribution is if it the outsides (lower left and upper right) are 0 and we the topography reflects a circular spheres around the mean**\n",
    "<img src=\"../images/anomaly-10.png\" alt=\"Drawing\" style=\"width: 400px;\"/>\n",
    "<img src=\"../images/anomaly-11.png\" alt=\"Drawing\" style=\"width: 400px;\"/>"
   ]
  }
 ],
 "metadata": {
  "kernelspec": {
   "display_name": "Python 3",
   "language": "python",
   "name": "python3"
  },
  "language_info": {
   "codemirror_mode": {
    "name": "ipython",
    "version": 3
   },
   "file_extension": ".py",
   "mimetype": "text/x-python",
   "name": "python",
   "nbconvert_exporter": "python",
   "pygments_lexer": "ipython3",
   "version": "3.6.6"
  }
 },
 "nbformat": 4,
 "nbformat_minor": 2
}
